{
 "cells": [
  {
   "cell_type": "code",
   "execution_count": 31,
   "id": "0a91880b",
   "metadata": {},
   "outputs": [],
   "source": [
    "from bs4 import BeautifulSoup as bs"
   ]
  },
  {
   "cell_type": "code",
   "execution_count": 5,
   "id": "c0d6802f",
   "metadata": {},
   "outputs": [],
   "source": [
    "import requests"
   ]
  },
  {
   "cell_type": "code",
   "execution_count": 11,
   "id": "6b876f94",
   "metadata": {},
   "outputs": [],
   "source": [
    "url=\"https://www.flipkart.com/apple-2020-macbook-air-m1-8-gb-256-gb-ssd-mac-os-big-sur-mgn63hn-a/p/itmde54f026889ce?pid=COMFXEKMGNHZYFH9&lid=LSTCOMFXEKMGNHZYFH9P56X45&marketplace=FLIPKART&q=macbook+air&store=6bo%2Fb5g&srno=s_1_1&otracker=search&otracker1=search&fm=search-autosuggest&iid=be1553e1-5e69-46b1-b484-94175810ac97.COMFXEKMGNHZYFH9.SEARCH&ppt=sp&ppn=sp&ssid=ekqn14s8bk0000001674986560234&qH=b61d62051d5441f9\""
   ]
  },
  {
   "cell_type": "code",
   "execution_count": 12,
   "id": "fe98cd4d",
   "metadata": {},
   "outputs": [
    {
     "data": {
      "text/plain": [
       "<Response [200]>"
      ]
     },
     "execution_count": 12,
     "metadata": {},
     "output_type": "execute_result"
    }
   ],
   "source": [
    "r=requests.get(url)\n",
    "r"
   ]
  },
  {
   "cell_type": "code",
   "execution_count": 29,
   "id": "70c87875",
   "metadata": {},
   "outputs": [],
   "source": [
    "x=r.content"
   ]
  },
  {
   "cell_type": "code",
   "execution_count": 40,
   "id": "2d5987ff",
   "metadata": {},
   "outputs": [],
   "source": [
    "soup=bs(x,\"html.parser\")"
   ]
  },
  {
   "cell_type": "code",
   "execution_count": null,
   "id": "b42399f3",
   "metadata": {},
   "outputs": [],
   "source": [
    "print(soup.prettify())"
   ]
  },
  {
   "cell_type": "markdown",
   "id": "870ca35e",
   "metadata": {},
   "source": [
    "# TITLE OF THE PRODUCT"
   ]
  },
  {
   "cell_type": "code",
   "execution_count": 46,
   "id": "afe3d66e",
   "metadata": {},
   "outputs": [
    {
     "data": {
      "text/plain": [
       "<title>APPLE 2020 Macbook Air M1 - (8 GB/256 GB SSD/Mac OS Big Sur) MGN63HN/A Rs.99900  Price in India - Buy APPLE 2020 Macbook Air M1 - (8 GB/256 GB SSD/Mac OS Big Sur) MGN63HN/A Space Grey Online - APPLE : Flipkart.com</title>"
      ]
     },
     "execution_count": 46,
     "metadata": {},
     "output_type": "execute_result"
    }
   ],
   "source": [
    "title=soup.title\n",
    "title"
   ]
  },
  {
   "cell_type": "code",
   "execution_count": 47,
   "id": "10596dcf",
   "metadata": {},
   "outputs": [
    {
     "data": {
      "text/plain": [
       "'APPLE 2020 Macbook Air M1 - (8 GB/256 GB SSD/Mac OS Big Sur) MGN63HN/A Rs.99900  Price in India - Buy APPLE 2020 Macbook Air M1 - (8 GB/256 GB SSD/Mac OS Big Sur) MGN63HN/A Space Grey Online - APPLE : Flipkart.com'"
      ]
     },
     "execution_count": 47,
     "metadata": {},
     "output_type": "execute_result"
    }
   ],
   "source": [
    "title.string"
   ]
  },
  {
   "cell_type": "markdown",
   "id": "1571ad63",
   "metadata": {},
   "source": [
    "# PRODUCT PRICE"
   ]
  },
  {
   "cell_type": "code",
   "execution_count": 58,
   "id": "a8e23721",
   "metadata": {},
   "outputs": [
    {
     "data": {
      "text/plain": [
       "[<div class=\"_30jeq3 _16Jk6d\">₹86,990</div>]"
      ]
     },
     "execution_count": 58,
     "metadata": {},
     "output_type": "execute_result"
    }
   ],
   "source": [
    "price=soup.find_all(\"div\",class_=\"_30jeq3 _16Jk6d\")\n",
    "price"
   ]
  },
  {
   "cell_type": "code",
   "execution_count": 60,
   "id": "b53913d7",
   "metadata": {},
   "outputs": [],
   "source": [
    "product_price=[]\n",
    "for i in range(0,len(price)):\n",
    "    product_price.append(price[i].get_text())"
   ]
  },
  {
   "cell_type": "code",
   "execution_count": 61,
   "id": "c493b118",
   "metadata": {},
   "outputs": [
    {
     "data": {
      "text/plain": [
       "['₹86,990']"
      ]
     },
     "execution_count": 61,
     "metadata": {},
     "output_type": "execute_result"
    }
   ],
   "source": [
    "product_price"
   ]
  },
  {
   "cell_type": "markdown",
   "id": "ffe84325",
   "metadata": {},
   "source": [
    "# CUSTOMER NAMES"
   ]
  },
  {
   "cell_type": "code",
   "execution_count": 64,
   "id": "da16d113",
   "metadata": {},
   "outputs": [
    {
     "data": {
      "text/plain": [
       "[<p class=\"_2sc7ZR _2V5EHH\">Nitish Sharma</p>,\n",
       " <p class=\"_2sc7ZR _2V5EHH\">Kunal Kathe</p>,\n",
       " <p class=\"_2sc7ZR _2V5EHH\">shudhanshu shukla</p>,\n",
       " <p class=\"_2sc7ZR _2V5EHH\">Arvind Singh</p>,\n",
       " <p class=\"_2sc7ZR _2V5EHH\">Parth Kapoor</p>,\n",
       " <p class=\"_2sc7ZR _2V5EHH\">Prabal Tirkey</p>,\n",
       " <p class=\"_2sc7ZR _2V5EHH\">Flipkart Customer</p>,\n",
       " <p class=\"_2sc7ZR _2V5EHH\">Abhisek Mishra</p>,\n",
       " <p class=\"_2sc7ZR _2V5EHH\">hari</p>,\n",
       " <p class=\"_2sc7ZR _2V5EHH\">shivam upadhyay</p>]"
      ]
     },
     "execution_count": 64,
     "metadata": {},
     "output_type": "execute_result"
    }
   ],
   "source": [
    "name=soup.find_all(\"p\",class_=\"_2sc7ZR _2V5EHH\")\n",
    "name"
   ]
  },
  {
   "cell_type": "code",
   "execution_count": 65,
   "id": "dd10e989",
   "metadata": {},
   "outputs": [],
   "source": [
    "cust_name=[]\n",
    "for i in range(0,len(name)):\n",
    "    cust_name.append(name[i].get_text())"
   ]
  },
  {
   "cell_type": "code",
   "execution_count": 66,
   "id": "5535e855",
   "metadata": {},
   "outputs": [
    {
     "data": {
      "text/plain": [
       "['Nitish Sharma',\n",
       " 'Kunal Kathe',\n",
       " 'shudhanshu shukla',\n",
       " 'Arvind Singh',\n",
       " 'Parth Kapoor',\n",
       " 'Prabal Tirkey',\n",
       " 'Flipkart Customer',\n",
       " 'Abhisek Mishra',\n",
       " 'hari',\n",
       " 'shivam upadhyay']"
      ]
     },
     "execution_count": 66,
     "metadata": {},
     "output_type": "execute_result"
    }
   ],
   "source": [
    "cust_name"
   ]
  },
  {
   "cell_type": "markdown",
   "id": "24612c69",
   "metadata": {},
   "source": [
    "# STARS RATING"
   ]
  },
  {
   "cell_type": "code",
   "execution_count": 70,
   "id": "69d34e46",
   "metadata": {},
   "outputs": [
    {
     "data": {
      "text/plain": [
       "[<div class=\"_3LWZlK _1BLPMq\">4<img class=\"_1wB99o\" src=\"data:image/svg+xml;base64,PHN2ZyB4bWxucz0iaHR0cDovL3d3dy53My5vcmcvMjAwMC9zdmciIHdpZHRoPSIxMyIgaGVpZ2h0PSIxMiI+PHBhdGggZmlsbD0iI0ZGRiIgZD0iTTYuNSA5LjQzOWwtMy42NzQgMi4yMy45NC00LjI2LTMuMjEtMi44ODMgNC4yNTQtLjQwNEw2LjUuMTEybDEuNjkgNC4wMSA0LjI1NC40MDQtMy4yMSAyLjg4Mi45NCA0LjI2eiIvPjwvc3ZnPg==\"/></div>,\n",
       " <div class=\"_3LWZlK _1BLPMq\">5<img class=\"_1wB99o\" src=\"data:image/svg+xml;base64,PHN2ZyB4bWxucz0iaHR0cDovL3d3dy53My5vcmcvMjAwMC9zdmciIHdpZHRoPSIxMyIgaGVpZ2h0PSIxMiI+PHBhdGggZmlsbD0iI0ZGRiIgZD0iTTYuNSA5LjQzOWwtMy42NzQgMi4yMy45NC00LjI2LTMuMjEtMi44ODMgNC4yNTQtLjQwNEw2LjUuMTEybDEuNjkgNC4wMSA0LjI1NC40MDQtMy4yMSAyLjg4Mi45NCA0LjI2eiIvPjwvc3ZnPg==\"/></div>,\n",
       " <div class=\"_3LWZlK _1BLPMq\">5<img class=\"_1wB99o\" src=\"data:image/svg+xml;base64,PHN2ZyB4bWxucz0iaHR0cDovL3d3dy53My5vcmcvMjAwMC9zdmciIHdpZHRoPSIxMyIgaGVpZ2h0PSIxMiI+PHBhdGggZmlsbD0iI0ZGRiIgZD0iTTYuNSA5LjQzOWwtMy42NzQgMi4yMy45NC00LjI2LTMuMjEtMi44ODMgNC4yNTQtLjQwNEw2LjUuMTEybDEuNjkgNC4wMSA0LjI1NC40MDQtMy4yMSAyLjg4Mi45NCA0LjI2eiIvPjwvc3ZnPg==\"/></div>,\n",
       " <div class=\"_3LWZlK _1BLPMq\">5<img class=\"_1wB99o\" src=\"data:image/svg+xml;base64,PHN2ZyB4bWxucz0iaHR0cDovL3d3dy53My5vcmcvMjAwMC9zdmciIHdpZHRoPSIxMyIgaGVpZ2h0PSIxMiI+PHBhdGggZmlsbD0iI0ZGRiIgZD0iTTYuNSA5LjQzOWwtMy42NzQgMi4yMy45NC00LjI2LTMuMjEtMi44ODMgNC4yNTQtLjQwNEw2LjUuMTEybDEuNjkgNC4wMSA0LjI1NC40MDQtMy4yMSAyLjg4Mi45NCA0LjI2eiIvPjwvc3ZnPg==\"/></div>,\n",
       " <div class=\"_3LWZlK _1BLPMq\">5<img class=\"_1wB99o\" src=\"data:image/svg+xml;base64,PHN2ZyB4bWxucz0iaHR0cDovL3d3dy53My5vcmcvMjAwMC9zdmciIHdpZHRoPSIxMyIgaGVpZ2h0PSIxMiI+PHBhdGggZmlsbD0iI0ZGRiIgZD0iTTYuNSA5LjQzOWwtMy42NzQgMi4yMy45NC00LjI2LTMuMjEtMi44ODMgNC4yNTQtLjQwNEw2LjUuMTEybDEuNjkgNC4wMSA0LjI1NC40MDQtMy4yMSAyLjg4Mi45NCA0LjI2eiIvPjwvc3ZnPg==\"/></div>,\n",
       " <div class=\"_3LWZlK _1BLPMq\">5<img class=\"_1wB99o\" src=\"data:image/svg+xml;base64,PHN2ZyB4bWxucz0iaHR0cDovL3d3dy53My5vcmcvMjAwMC9zdmciIHdpZHRoPSIxMyIgaGVpZ2h0PSIxMiI+PHBhdGggZmlsbD0iI0ZGRiIgZD0iTTYuNSA5LjQzOWwtMy42NzQgMi4yMy45NC00LjI2LTMuMjEtMi44ODMgNC4yNTQtLjQwNEw2LjUuMTEybDEuNjkgNC4wMSA0LjI1NC40MDQtMy4yMSAyLjg4Mi45NCA0LjI2eiIvPjwvc3ZnPg==\"/></div>,\n",
       " <div class=\"_3LWZlK _1BLPMq\">5<img class=\"_1wB99o\" src=\"data:image/svg+xml;base64,PHN2ZyB4bWxucz0iaHR0cDovL3d3dy53My5vcmcvMjAwMC9zdmciIHdpZHRoPSIxMyIgaGVpZ2h0PSIxMiI+PHBhdGggZmlsbD0iI0ZGRiIgZD0iTTYuNSA5LjQzOWwtMy42NzQgMi4yMy45NC00LjI2LTMuMjEtMi44ODMgNC4yNTQtLjQwNEw2LjUuMTEybDEuNjkgNC4wMSA0LjI1NC40MDQtMy4yMSAyLjg4Mi45NCA0LjI2eiIvPjwvc3ZnPg==\"/></div>,\n",
       " <div class=\"_3LWZlK _1BLPMq\">5<img class=\"_1wB99o\" src=\"data:image/svg+xml;base64,PHN2ZyB4bWxucz0iaHR0cDovL3d3dy53My5vcmcvMjAwMC9zdmciIHdpZHRoPSIxMyIgaGVpZ2h0PSIxMiI+PHBhdGggZmlsbD0iI0ZGRiIgZD0iTTYuNSA5LjQzOWwtMy42NzQgMi4yMy45NC00LjI2LTMuMjEtMi44ODMgNC4yNTQtLjQwNEw2LjUuMTEybDEuNjkgNC4wMSA0LjI1NC40MDQtMy4yMSAyLjg4Mi45NCA0LjI2eiIvPjwvc3ZnPg==\"/></div>,\n",
       " <div class=\"_3LWZlK _1BLPMq\">5<img class=\"_1wB99o\" src=\"data:image/svg+xml;base64,PHN2ZyB4bWxucz0iaHR0cDovL3d3dy53My5vcmcvMjAwMC9zdmciIHdpZHRoPSIxMyIgaGVpZ2h0PSIxMiI+PHBhdGggZmlsbD0iI0ZGRiIgZD0iTTYuNSA5LjQzOWwtMy42NzQgMi4yMy45NC00LjI2LTMuMjEtMi44ODMgNC4yNTQtLjQwNEw2LjUuMTEybDEuNjkgNC4wMSA0LjI1NC40MDQtMy4yMSAyLjg4Mi45NCA0LjI2eiIvPjwvc3ZnPg==\"/></div>,\n",
       " <div class=\"_3LWZlK _1BLPMq\">4<img class=\"_1wB99o\" src=\"data:image/svg+xml;base64,PHN2ZyB4bWxucz0iaHR0cDovL3d3dy53My5vcmcvMjAwMC9zdmciIHdpZHRoPSIxMyIgaGVpZ2h0PSIxMiI+PHBhdGggZmlsbD0iI0ZGRiIgZD0iTTYuNSA5LjQzOWwtMy42NzQgMi4yMy45NC00LjI2LTMuMjEtMi44ODMgNC4yNTQtLjQwNEw2LjUuMTEybDEuNjkgNC4wMSA0LjI1NC40MDQtMy4yMSAyLjg4Mi45NCA0LjI2eiIvPjwvc3ZnPg==\"/></div>]"
      ]
     },
     "execution_count": 70,
     "metadata": {},
     "output_type": "execute_result"
    }
   ],
   "source": [
    "stars=soup.find_all(\"div\",class_=\"_3LWZlK _1BLPMq\")\n",
    "stars"
   ]
  },
  {
   "cell_type": "code",
   "execution_count": 71,
   "id": "373eff59",
   "metadata": {},
   "outputs": [],
   "source": [
    "rating_stars=[]\n",
    "for i in range(0,len(stars)):\n",
    "    rating_stars.append(stars[i].get_text())"
   ]
  },
  {
   "cell_type": "code",
   "execution_count": 72,
   "id": "c12fd3b5",
   "metadata": {},
   "outputs": [
    {
     "data": {
      "text/plain": [
       "['4', '5', '5', '5', '5', '5', '5', '5', '5', '4']"
      ]
     },
     "execution_count": 72,
     "metadata": {},
     "output_type": "execute_result"
    }
   ],
   "source": [
    "rating_stars"
   ]
  },
  {
   "cell_type": "markdown",
   "id": "752c9d1b",
   "metadata": {},
   "source": [
    "# CUSTOMERS REVIEWS"
   ]
  },
  {
   "cell_type": "code",
   "execution_count": 80,
   "id": "db37257b",
   "metadata": {},
   "outputs": [
    {
     "data": {
      "text/plain": [
       "[<span class=\"_1H-bmy\"><span>READ MORE</span></span>,\n",
       " <span class=\"_1H-bmy\"><span>READ MORE</span></span>,\n",
       " <span class=\"_1H-bmy\"><span>READ MORE</span></span>,\n",
       " <span class=\"_1H-bmy\"><span>READ MORE</span></span>,\n",
       " <span class=\"_1H-bmy\"><span>READ MORE</span></span>]"
      ]
     },
     "execution_count": 80,
     "metadata": {},
     "output_type": "execute_result"
    }
   ],
   "source": [
    "reviews=soup.find_all(\"span\",class_=\"_1H-bmy\")\n",
    "reviews"
   ]
  },
  {
   "cell_type": "code",
   "execution_count": 75,
   "id": "f7583894",
   "metadata": {},
   "outputs": [],
   "source": [
    "cust_reviews=[]\n",
    "for i in range(0,len(reviews)):\n",
    "    cust_reviews.append(reviews[i].get_text())"
   ]
  },
  {
   "cell_type": "code",
   "execution_count": 81,
   "id": "44ca2015",
   "metadata": {},
   "outputs": [
    {
     "data": {
      "text/plain": [
       "[\"A bit expensive when we compare with  today's intel (11th gen) or AMD (Ryzen 5th gen) based windows Laptops with RTX 30 Graphics but this Apple M1 in terms of overall performance,  it is far beyond what windows laptops can offer in same segment.I won't compare it with windows laptops as we all are aware of it. This is more about M1 chip. People are worried about buying M1 version because of compatibility issues.Don't worry, this processor is so powerful and in terms of compatibility, this ...READ MORE\",\n",
       " 'Fantastic value for money machine!! Absolute beast as far as sheer performance is concerned that being super efficient on the battery. 1. Using it mainly for coding purposes, browsing and all that regular stuff. Haven’t played any games on it so I can’t comment on battery life and performance while gaming but with regular coding stuff like web development, mobile app development, web browsing etc the battery will easily last for 10+ hrs or even more.2. Apple nailed the thermals on this mac...READ MORE',\n",
       " 'The best you can get, looks and performance both are to notch, supreme battery life, ultra fast speed. Display and sounds are fantastic, never seen any better till now. Till now it was, Apple was offering 7 at the price of 10, looks were alaways 10 out of 10 but now Apple is giving 15 at the price of 10.. Absolutely worth the price.READ MORE',\n",
       " 'For everyone, who is planning to buy MBA M1-Pros-Blazing fast- M1 is so ahead in performanceBattery is amazing (I use it entire day for work)Build quality is top notch undoubtedlyCons-Webcam is grainy (no update has been able to fix it)- Not a major concern but for the price you pay it is indeed expected.Color- I opted for Gold (after seeing all the images online), however it has a rose tint and looks pinkish in indoor lights. Its not gold-gold, its pinkish-gold.P.S. I recently upg...READ MORE',\n",
       " 'Ultimate machine, best laptop I have ever used hands down. M1 macbook air is more powerful than any previous generation Mac or any Windows laptop. Awesome purchase. Thank you FlipkartREAD MORE',\n",
       " 'Got a timely delivery and a good product. Good purchase for the price. Keep in mind the softwares are upgrading to support M1 architecture. Overall very good product at a very competitive pricing.READ MORE',\n",
       " 'So it’s the best computer in the world rite now Period.You don’t need to worry about anything and I’m not gonna say about performance cause there are a lot of videos on YouTube already and of course there are other upgrades you can do to your laptop may be you need pro but this is nothing less.. thanks to Flipkart for amazing and timely and secure delivery Great service keep the good work and keep getting better👍🏼READ MORE',\n",
       " 'At the current scenario where a proper Graphics card windows laptop is costing around 1.2 lakh at a min.This MacBook Air M1 is the best deal and I got it around 82k so I received the best deal.So we can now say Apple Laptop is cheaper in price than Windows.READ MORE',\n",
       " 'The following is a detailed usage review.First of all, I Thank Flipkart for the fast delivery, that too a day before the promised delivery date. This is by far the best laptop you could get for the price range. As a person who have been a windows user all my life, MacOS is a totally different experience for me. The aluminium build, the performance, the display and the compactness of this machine has surprised me. PROS:1. The M1 Chip - This chip is the sole reason that narrowed me down to...READ MORE',\n",
       " 'If You are going to buy a laptop worth 85k go for itNo one can beat it from design,battery, performance,speakers1. I never heard this type of loudness in speakers of any laptop2. Built is awesome3. What a top notch performance I am a software developer I use VScode, Postman,mongodb Compass, Chrome, Git they work like a charm 4. You will never face a Lag5. I opened 30+ Chrome tabs with postman,VScode,mongodb Compass, with node serverAnd never faced an issue.6. 2k Display is just awesom...READ MORE']"
      ]
     },
     "execution_count": 81,
     "metadata": {},
     "output_type": "execute_result"
    }
   ],
   "source": [
    "cust_reviews"
   ]
  },
  {
   "cell_type": "code",
   "execution_count": null,
   "id": "49e66c1f",
   "metadata": {},
   "outputs": [],
   "source": []
  }
 ],
 "metadata": {
  "kernelspec": {
   "display_name": "Python 3 (ipykernel)",
   "language": "python",
   "name": "python3"
  },
  "language_info": {
   "codemirror_mode": {
    "name": "ipython",
    "version": 3
   },
   "file_extension": ".py",
   "mimetype": "text/x-python",
   "name": "python",
   "nbconvert_exporter": "python",
   "pygments_lexer": "ipython3",
   "version": "3.10.5"
  }
 },
 "nbformat": 4,
 "nbformat_minor": 5
}
